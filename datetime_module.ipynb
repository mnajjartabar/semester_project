{
 "cells": [
  {
   "cell_type": "code",
   "execution_count": 1,
   "metadata": {},
   "outputs": [],
   "source": [
    "import datetime"
   ]
  },
  {
   "cell_type": "code",
   "execution_count": 6,
   "metadata": {},
   "outputs": [
    {
     "name": "stdout",
     "output_type": "stream",
     "text": [
      "2020-02-03 15:00:18.905162\n",
      "<class 'datetime.datetime'>\n"
     ]
    }
   ],
   "source": [
    "current_date = datetime.datetime.now()\n",
    "print(current_date)\n",
    "print(type(current_date))"
   ]
  },
  {
   "cell_type": "code",
   "execution_count": 9,
   "metadata": {},
   "outputs": [
    {
     "name": "stdout",
     "output_type": "stream",
     "text": [
      "15:00:18.905162\n",
      "2020-02-03\n"
     ]
    }
   ],
   "source": [
    "print(current_date.time())\n",
    "print(current_date.date())"
   ]
  },
  {
   "cell_type": "code",
   "execution_count": 15,
   "metadata": {},
   "outputs": [
    {
     "name": "stdout",
     "output_type": "stream",
     "text": [
      "3\n",
      "2020-02-03T15:00:18.905162\n"
     ]
    }
   ],
   "source": [
    "print(current_date.day)\n",
    "print(current_date.isoformat())"
   ]
  },
  {
   "cell_type": "code",
   "execution_count": 16,
   "metadata": {},
   "outputs": [
    {
     "name": "stdout",
     "output_type": "stream",
     "text": [
      "Feb\n"
     ]
    }
   ],
   "source": [
    "print(current_date.strftime('%b'))"
   ]
  },
  {
   "cell_type": "code",
   "execution_count": 17,
   "metadata": {},
   "outputs": [
    {
     "data": {
      "text/plain": [
       "\u001b[0;31mDocstring:\u001b[0m format -> strftime() style string.\n",
       "\u001b[0;31mType:\u001b[0m      builtin_function_or_method\n"
      ]
     },
     "metadata": {},
     "output_type": "display_data"
    }
   ],
   "source": [
    "current_date.strftime?"
   ]
  },
  {
   "cell_type": "code",
   "execution_count": 27,
   "metadata": {},
   "outputs": [
    {
     "name": "stdout",
     "output_type": "stream",
     "text": [
      "<class 'str'>\n"
     ]
    }
   ],
   "source": [
    "#String to datetime object\n",
    "date_str = \"2020-02-03 14:30:00\"\n",
    "print(type(date_str))"
   ]
  },
  {
   "cell_type": "code",
   "execution_count": 28,
   "metadata": {},
   "outputs": [
    {
     "name": "stdout",
     "output_type": "stream",
     "text": [
      "2020-03-02 14:30:00\n",
      "<class 'datetime.datetime'>\n"
     ]
    }
   ],
   "source": [
    "date_str = datetime.datetime.strptime(date_str, \"%Y-%d-%m %H:%M:%S\")\n",
    "print(date_str)\n",
    "print(type(date_str))"
   ]
  },
  {
   "cell_type": "code",
   "execution_count": 31,
   "metadata": {},
   "outputs": [
    {
     "name": "stdout",
     "output_type": "stream",
     "text": [
      "2020-02-03 00:00:00\n"
     ]
    }
   ],
   "source": [
    "# Build a date\n",
    "new_date = datetime.datetime(2020, 2, 3)\n",
    "print(new_date)"
   ]
  },
  {
   "cell_type": "code",
   "execution_count": 32,
   "metadata": {},
   "outputs": [
    {
     "name": "stdout",
     "output_type": "stream",
     "text": [
      "2020-02-03 15:30:15\n"
     ]
    }
   ],
   "source": [
    "new_date = datetime.datetime(2020, 2, 3, 15, 30, 15)\n",
    "print(new_date)"
   ]
  },
  {
   "cell_type": "code",
   "execution_count": 34,
   "metadata": {},
   "outputs": [
    {
     "name": "stdout",
     "output_type": "stream",
     "text": [
      "9529 days, 15:31:11.514784\n"
     ]
    }
   ],
   "source": [
    "# Aritmethic operations with dates\n",
    "date_start = datetime.datetime(1994, 1, 1)\n",
    "date_end = datetime.datetime.now()\n",
    "date_diff = date_end - date_start\n",
    "print(date_diff)"
   ]
  },
  {
   "cell_type": "code",
   "execution_count": 35,
   "metadata": {},
   "outputs": [
    {
     "name": "stdout",
     "output_type": "stream",
     "text": [
      "<class 'datetime.datetime'>\n",
      "<class 'datetime.timedelta'>\n"
     ]
    }
   ],
   "source": [
    "print(type(date_start))\n",
    "print(type(date_diff))"
   ]
  },
  {
   "cell_type": "code",
   "execution_count": 37,
   "metadata": {},
   "outputs": [
    {
     "name": "stdout",
     "output_type": "stream",
     "text": [
      "9529\n"
     ]
    }
   ],
   "source": [
    "print(date_diff.days)"
   ]
  },
  {
   "cell_type": "code",
   "execution_count": 38,
   "metadata": {},
   "outputs": [
    {
     "name": "stdout",
     "output_type": "stream",
     "text": [
      "823361471.514784\n"
     ]
    }
   ],
   "source": [
    "print(date_diff.total_seconds())"
   ]
  },
  {
   "cell_type": "code",
   "execution_count": 2,
   "metadata": {},
   "outputs": [
    {
     "name": "stdin",
     "output_type": "stream",
     "text": [
      "Enter your name:  \n"
     ]
    },
    {
     "name": "stdout",
     "output_type": "stream",
     "text": [
      "\n"
     ]
    }
   ],
   "source": [
    "# inputs from user\n",
    "name = input(\"Enter your name: \")\n",
    "print(name)"
   ]
  },
  {
   "cell_type": "code",
   "execution_count": 6,
   "metadata": {},
   "outputs": [
    {
     "name": "stdin",
     "output_type": "stream",
     "text": [
      "Enter mass of dry soil (g): 40\n",
      "Enter blank reading (g/l):  5\n",
      "Enter first reading(g/l):  38\n",
      "Enter second reading(g/l):  26\n"
     ]
    },
    {
     "name": "stdout",
     "output_type": "stream",
     "text": [
      "Sand: 0%, Silt: 35%, Clay: 65%\n"
     ]
    }
   ],
   "source": [
    "# Request mass of dry soil\n",
    "\n",
    "mass_dry_soil = input(\"Enter mass of dry soil (g):\")\n",
    "mass_dry_soil = float(mass_dry_soil)\n",
    "\n",
    "#request reading of blank\n",
    "blank_reading = float(input(\"Enter blank reading (g/l): \"))\n",
    "\n",
    "#First reading\n",
    "first_reading = input('Enter first reading(g/l): ')\n",
    "first_reading = float(first_reading)\n",
    "\n",
    "#second reading\n",
    "second_reading = input('Enter second reading(g/l): ')\n",
    "second_reading = float(second_reading)\n",
    "\n",
    "sand_content = round((mass_dry_soil - first_reading)/mass_dry_soil)\n",
    "clay_content = round(second_reading/mass_dry_soil*100)\n",
    "silt_content = 100 - sand_content - clay_content\n",
    "\n",
    "print('Sand: {sand}%, Silt: {silt}%, Clay: {clay}%'\n",
    "      .format(sand=sand_content, \n",
    "              silt=silt_content, \n",
    "              clay=clay_content))\n",
    "\n",
    "\n"
   ]
  },
  {
   "cell_type": "code",
   "execution_count": 7,
   "metadata": {},
   "outputs": [],
   "source": [
    "import glob"
   ]
  },
  {
   "cell_type": "code",
   "execution_count": 8,
   "metadata": {},
   "outputs": [
    {
     "name": "stdout",
     "output_type": "stream",
     "text": [
      "/Users/mohammadnajjartabarbisheh/Onedrive/OneDrive - Kansas State University/Github/semester_project\n"
     ]
    }
   ],
   "source": [
    "# Get current working directory\n",
    "print(glob.os.getcwd())"
   ]
  },
  {
   "cell_type": "code",
   "execution_count": 9,
   "metadata": {},
   "outputs": [],
   "source": [
    "glob.os.chdir('..')"
   ]
  },
  {
   "cell_type": "code",
   "execution_count": 11,
   "metadata": {},
   "outputs": [
    {
     "name": "stdout",
     "output_type": "stream",
     "text": [
      "/Users/mohammadnajjartabarbisheh/Onedrive/OneDrive - Kansas State University\n"
     ]
    }
   ],
   "source": [
    "print(glob.os.getcwd())"
   ]
  },
  {
   "cell_type": "code",
   "execution_count": 12,
   "metadata": {},
   "outputs": [],
   "source": [
    "glob.os.chdir('Github')"
   ]
  },
  {
   "cell_type": "code",
   "execution_count": 13,
   "metadata": {},
   "outputs": [
    {
     "name": "stdout",
     "output_type": "stream",
     "text": [
      "/Users/mohammadnajjartabarbisheh/Onedrive/OneDrive - Kansas State University/Github\n"
     ]
    }
   ],
   "source": [
    "print(glob.os.getcwd())\n"
   ]
  },
  {
   "cell_type": "code",
   "execution_count": 14,
   "metadata": {},
   "outputs": [],
   "source": [
    "glob.os.chdir('semester_project')"
   ]
  },
  {
   "cell_type": "code",
   "execution_count": 15,
   "metadata": {},
   "outputs": [
    {
     "name": "stdout",
     "output_type": "stream",
     "text": [
      "/Users/mohammadnajjartabarbisheh/Onedrive/OneDrive - Kansas State University/Github/semester_project\n"
     ]
    }
   ],
   "source": [
    "print(glob.os.getcwd())\n",
    "\n"
   ]
  },
  {
   "cell_type": "code",
   "execution_count": 16,
   "metadata": {},
   "outputs": [
    {
     "name": "stdout",
     "output_type": "stream",
     "text": [
      "['Project.ipynb', 'README.md', 'Lab.ipynb', 'datetime_module.ipynb', '.ipynb_checkpoints', '.git']\n"
     ]
    }
   ],
   "source": [
    "print(glob.os.listdir())\n",
    "\n"
   ]
  },
  {
   "cell_type": "code",
   "execution_count": 18,
   "metadata": {},
   "outputs": [
    {
     "name": "stdout",
     "output_type": "stream",
     "text": [
      "Project.ipynb\n",
      "README.md\n",
      "Lab.ipynb\n",
      "datetime_module.ipynb\n"
     ]
    }
   ],
   "source": [
    "# bonus\n",
    "xlsfile = []\n",
    "for file in glob.glob(\"*\"):\n",
    "    xlsfile.append(file)\n",
    "    print(file)\n",
    "    "
   ]
  },
  {
   "cell_type": "code",
   "execution_count": null,
   "metadata": {},
   "outputs": [],
   "source": []
  }
 ],
 "metadata": {
  "kernelspec": {
   "display_name": "Python 3",
   "language": "python",
   "name": "python3"
  },
  "language_info": {
   "codemirror_mode": {
    "name": "ipython",
    "version": 3
   },
   "file_extension": ".py",
   "mimetype": "text/x-python",
   "name": "python",
   "nbconvert_exporter": "python",
   "pygments_lexer": "ipython3",
   "version": "3.7.4"
  }
 },
 "nbformat": 4,
 "nbformat_minor": 4
}
