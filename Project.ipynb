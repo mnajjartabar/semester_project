{
 "cells": [
  {
   "cell_type": "markdown",
   "metadata": {},
   "source": [
    "# Identifying canopy coverage using phone images"
   ]
  },
  {
   "cell_type": "markdown",
   "metadata": {},
   "source": [
    "Name: Mohammad Bisheh\n",
    "\n",
    "Project area: Agronomy\n",
    "    "
   ]
  },
  {
   "cell_type": "markdown",
   "metadata": {},
   "source": [
    "# Objective:"
   ]
  },
  {
   "cell_type": "markdown",
   "metadata": {},
   "source": [
    "### soil and water conservation management using image processing."
   ]
  },
  {
   "cell_type": "markdown",
   "metadata": {},
   "source": [
    "# Motivation and methodology"
   ]
  },
  {
   "cell_type": "markdown",
   "metadata": {},
   "source": [
    "determining canopy coverage of the land surface of agricultural fields is still a critical issue in soil and water conservation management. Different methods has been proposed to identify canopy coverage of the field. In this project, I will examine performance of different Machine Learning (ML) methods in determining canopy coverage of the land surface of agricultural fields. To do this, appropriate ML methods like Logistics Regression (LR), Suport Vector Machine (SVM) and Neural Network (NN) which is famous in binary classification will be used. A same training dataset will be collected and used to train MLs. Finally a test datasets will be used to examine different ML performance through drawing confusion matrix. "
   ]
  },
  {
   "cell_type": "markdown",
   "metadata": {},
   "source": []
  }
 ],
 "metadata": {
  "kernelspec": {
   "display_name": "Python 3",
   "language": "python",
   "name": "python3"
  },
  "language_info": {
   "codemirror_mode": {
    "name": "ipython",
    "version": 3
   },
   "file_extension": ".py",
   "mimetype": "text/x-python",
   "name": "python",
   "nbconvert_exporter": "python",
   "pygments_lexer": "ipython3",
   "version": "3.7.4"
  }
 },
 "nbformat": 4,
 "nbformat_minor": 2
}
