{
 "cells": [
  {
   "cell_type": "markdown",
   "metadata": {},
   "source": [
    "# Compute the Day of the year, Mohammad Bisheh, 4, Feb, 20"
   ]
  },
  {
   "cell_type": "code",
   "execution_count": 1,
   "metadata": {},
   "outputs": [],
   "source": [
    "import datetime"
   ]
  },
  {
   "cell_type": "code",
   "execution_count": 5,
   "metadata": {},
   "outputs": [
    {
     "name": "stdout",
     "output_type": "stream",
     "text": [
      "Enter the time in the format of Year-Day-Month Hour:Minutes:seconds (example:2010-02-03 14:30:00 ) 2010-02-03 14:30:00\n",
      "total_date_diff is : 3626.454958044745\n",
      "date_diff is : 3626 days, 10:55:08.375066\n",
      "just number of days that has been past is:  3626\n"
     ]
    }
   ],
   "source": [
    "current_date = datetime.datetime.now()\n",
    "#print(current_date)\n",
    "#print(type(current_date))\n",
    "\n",
    "# inputs from user\n",
    "Given_date = input(\"Enter the time in the format of Year-Day-Month Hour:Minutes:seconds (example:2010-02-03 14:30:00 ) \")\n",
    "#print(type(Given_date))\n",
    "\n",
    "\n",
    "# Change data type:\n",
    "\n",
    "Given_date = datetime.datetime.strptime(Given_date, \"%Y-%d-%m %H:%M:%S\")\n",
    "#print(Given_date)\n",
    "#print(type(Given_date))\n",
    "\n",
    "\n",
    "# Aritmethic operations with dates\n",
    "date_start = Given_date\n",
    "date_end = datetime.datetime.now()\n",
    "date_diff = date_end - date_start\n",
    "second_diff = date_diff.total_seconds()\n",
    "total_date_diff = second_diff/86400\n",
    "print(\"total_date_diff is :\", total_date_diff)\n",
    "print(\"date_diff is :\", date_diff)\n",
    "print(\"just number of days that has been past is: \", date_diff.days)\n"
   ]
  },
  {
   "cell_type": "code",
   "execution_count": null,
   "metadata": {},
   "outputs": [],
   "source": []
  }
 ],
 "metadata": {
  "kernelspec": {
   "display_name": "Python 3",
   "language": "python",
   "name": "python3"
  },
  "language_info": {
   "codemirror_mode": {
    "name": "ipython",
    "version": 3
   },
   "file_extension": ".py",
   "mimetype": "text/x-python",
   "name": "python",
   "nbconvert_exporter": "python",
   "pygments_lexer": "ipython3",
   "version": "3.7.4"
  }
 },
 "nbformat": 4,
 "nbformat_minor": 2
}
