{
 "cells": [
  {
   "cell_type": "code",
   "execution_count": 1,
   "metadata": {},
   "outputs": [],
   "source": [
    "#Import necessary module\n",
    "import random\n"
   ]
  },
  {
   "cell_type": "code",
   "execution_count": null,
   "metadata": {},
   "outputs": [],
   "source": [
    "# Define unique treatments and number of replications\n",
    "tmt = [\"N0\", \"N25\", \"N50\", \"N100\", \"N200\"] # N in kg/ha \n",
    "reps = 4\n"
   ]
  },
  {
   "cell_type": "code",
   "execution_count": 2,
   "metadata": {},
   "outputs": [
    {
     "name": "stdout",
     "output_type": "stream",
     "text": [
      "Randomized complete block replication  1 : ['N50', 'N200', 'N100', 'N25', 'N0']\n",
      "Randomized complete block replication  2 : ['N25', 'N200', 'N100', 'N0', 'N50']\n",
      "Randomized complete block replication  3 : ['N0', 'N25', 'N100', 'N200', 'N50']\n",
      "Randomized complete block replication  4 : ['N100', 'N200', 'N50', 'N0', 'N25']\n"
     ]
    }
   ],
   "source": [
    "# Randomized complete block\n",
    "random.seed('default')\n",
    "count = 0\n",
    "for i in range(reps) :\n",
    "    count = count +1\n",
    "    print(\"Randomized complete block replication \", count,\":\" ,random.sample(tmt, k=5))\n",
    "    "
   ]
  },
  {
   "cell_type": "code",
   "execution_count": 3,
   "metadata": {},
   "outputs": [
    {
     "name": "stdout",
     "output_type": "stream",
     "text": [
      "Complete randomized replication  1 : ['N0', 'N50', 'N100', 'N200', 'N25']\n",
      "Complete randomized replication  2 : ['N200', 'N25', 'N100', 'N0', 'N0']\n",
      "Complete randomized replication  3 : ['N200', 'N25', 'N0', 'N25', 'N200']\n",
      "Complete randomized replication  4 : ['N100', 'N100', 'N50', 'N50', 'N50']\n"
     ]
    }
   ],
   "source": [
    "# Complete randomized design\n",
    "# Make a master treatment with all possible valiues we want\n",
    "tmt4 =tmt*reps\n",
    "\n",
    "# Randomize the  master treatment\n",
    "rand_samp = random.sample(tmt4, k=20)\n",
    "\n",
    "# Split the master randomized treatment into replications\n",
    "count = 0\n",
    "for i  in range(0, len(rand_samp), 5):\n",
    "    count = count +1\n",
    "    print(\"Complete randomized replication \", count,\":\" , rand_samp[i:i+5])   \n",
    "    "
   ]
  }
 ],
 "metadata": {
  "kernelspec": {
   "display_name": "Python 3",
   "language": "python",
   "name": "python3"
  },
  "language_info": {
   "codemirror_mode": {
    "name": "ipython",
    "version": 3
   },
   "file_extension": ".py",
   "mimetype": "text/x-python",
   "name": "python",
   "nbconvert_exporter": "python",
   "pygments_lexer": "ipython3",
   "version": "3.7.4"
  }
 },
 "nbformat": 4,
 "nbformat_minor": 2
}
