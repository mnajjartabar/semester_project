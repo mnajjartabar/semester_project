{
 "cells": [
  {
   "cell_type": "markdown",
   "metadata": {},
   "source": [
    "# Title of the challenge: Photoperiod\n",
    "# Full name: Mohammad Bisheh\n",
    "# Date: 9/ Feb/ 2020\n"
   ]
  },
  {
   "cell_type": "markdown",
   "metadata": {},
   "source": [
    "# Goal \n",
    "## The goal of this challenge is to write a Python script to compute the number of daylight hours for a user-specified date and latitude.\n",
    "\n"
   ]
  },
  {
   "cell_type": "code",
   "execution_count": 1,
   "metadata": {},
   "outputs": [],
   "source": [
    "import datetime\n",
    "import math\n",
    "import numpy as np\n",
    "from geopy.geocoders import Nominatim\n",
    "from termcolor import colored\n"
   ]
  },
  {
   "cell_type": "markdown",
   "metadata": {},
   "source": [
    "### To check with the value of the paper you can deactive equations that find (Given_data, Postal_code, t, and location and active t=201 and phi = 33.4"
   ]
  },
  {
   "cell_type": "code",
   "execution_count": 5,
   "metadata": {},
   "outputs": [
    {
     "name": "stdout",
     "output_type": "stream",
     "text": [
      "Enter the time in the format of Year-Day-Month (example:2010-02-03) 2020-19-07\n",
      "Enter your postal code (example:66502 ) 66502\n"
     ]
    },
    {
     "name": "stderr",
     "output_type": "stream",
     "text": [
      "C:\\Users\\mnajjartabar\\AppData\\Local\\Continuum\\anaconda3\\lib\\site-packages\\ipykernel_launcher.py:14: DeprecationWarning: Using Nominatim with the default \"geopy/1.21.0\" `user_agent` is strongly discouraged, as it violates Nominatim's ToS https://operations.osmfoundation.org/policies/nominatim/ and may possibly cause 403 and 429 HTTP errors. Please specify a custom `user_agent` with `Nominatim(user_agent=\"my-application\")` or by overriding the default `user_agent`: `geopy.geocoders.options.default_user_agent = \"my-application\"`. In geopy 2.0 this will become an exception.\n",
      "  \n"
     ]
    },
    {
     "name": "stdout",
     "output_type": "stream",
     "text": [
      "Day_lenght is: 14.204006919640687 hours\n"
     ]
    }
   ],
   "source": [
    "\n",
    "# inputs from user\n",
    "Given_date = input(\"Enter the time in the format of Year-Day-Month (example:2010-02-03) \")\n",
    "Postal_code= input(\"Enter your postal code (example:66502 ) \")\n",
    "\n",
    "# finding julian date\n",
    "Given_date = datetime.datetime.strptime(Given_date, \"%Y-%d-%m\")\n",
    "t = Given_date.timetuple().tm_yday\n",
    "#t=201\n",
    "# Aritmethic operations\n",
    "M = 0.985600 * t - 3.251\n",
    "la = M + 1.916*math.sin(math.radians(M)) + 0.020*math.sin(math.radians(2*M)) + 282.565\n",
    "delta = math.asin(0.39779*math.sin(math.radians(la)))\n",
    "\n",
    "geolocator = Nominatim()\n",
    "location = geolocator.geocode(Postal_code)\n",
    "\n",
    "#phi = 33.4\n",
    "#phi = round(location.latitude,1)\n",
    "light_intensity = 2.206 * 10**-3\n",
    "B = -4.76 - 1.03 * math.log(light_intensity)\n",
    "alpha = 90 + B\n",
    "tan_d = math.tan(delta)\n",
    "tan_p = math.tan(math.radians(phi))\n",
    "cos_d = math.cos(delta)\n",
    "cos_p = math.cos(math.radians(phi))\n",
    "cos_a = math.cos(math.radians(alpha))\n",
    "first = cos_a/(cos_p*cos_d)\n",
    "second = tan_p*tan_d\n",
    "Day_lenght = (2/15) * math.acos(first-second)\n",
    "print ('Day_lenght is:', math.degrees(Day_lenght), 'hours')"
   ]
  },
  {
   "cell_type": "code",
   "execution_count": null,
   "metadata": {},
   "outputs": [],
   "source": []
  }
 ],
 "metadata": {
  "kernelspec": {
   "display_name": "Python 3",
   "language": "python",
   "name": "python3"
  },
  "language_info": {
   "codemirror_mode": {
    "name": "ipython",
    "version": 3
   },
   "file_extension": ".py",
   "mimetype": "text/x-python",
   "name": "python",
   "nbconvert_exporter": "python",
   "pygments_lexer": "ipython3",
   "version": "3.7.4"
  }
 },
 "nbformat": 4,
 "nbformat_minor": 2
}
