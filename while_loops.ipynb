{
 "cells": [
  {
   "cell_type": "code",
   "execution_count": 2,
   "metadata": {},
   "outputs": [
    {
     "name": "stdout",
     "output_type": "stream",
     "text": [
      "0\n",
      "1\n",
      "2\n"
     ]
    }
   ],
   "source": [
    "A = 0\n",
    "while A < 3:\n",
    "    print (A)\n",
    "    A += 1"
   ]
  },
  {
   "cell_type": "markdown",
   "metadata": {},
   "source": [
    "## Guessing the number"
   ]
  },
  {
   "cell_type": "code",
   "execution_count": 12,
   "metadata": {},
   "outputs": [
    {
     "name": "stdout",
     "output_type": "stream",
     "text": [
      "Hello\n"
     ]
    },
    {
     "name": "stdin",
     "output_type": "stream",
     "text": [
      "guess a number between 1 and 10 2\n"
     ]
    },
    {
     "name": "stdout",
     "output_type": "stream",
     "text": [
      "try again!\n",
      "hello2\n",
      "Hello\n"
     ]
    },
    {
     "name": "stdin",
     "output_type": "stream",
     "text": [
      "guess a number between 1 and 10 3\n"
     ]
    },
    {
     "name": "stdout",
     "output_type": "stream",
     "text": [
      "try again!\n",
      "hello2\n",
      "Hello\n"
     ]
    },
    {
     "name": "stdin",
     "output_type": "stream",
     "text": [
      "guess a number between 1 and 10 5\n"
     ]
    },
    {
     "name": "stdout",
     "output_type": "stream",
     "text": [
      "try again!\n",
      "hello2\n",
      "Hello\n"
     ]
    },
    {
     "name": "stdin",
     "output_type": "stream",
     "text": [
      "guess a number between 1 and 10 6\n"
     ]
    },
    {
     "name": "stdout",
     "output_type": "stream",
     "text": [
      "try again!\n",
      "hello2\n",
      "Hello\n"
     ]
    },
    {
     "name": "stdin",
     "output_type": "stream",
     "text": [
      "guess a number between 1 and 10 7\n"
     ]
    },
    {
     "name": "stdout",
     "output_type": "stream",
     "text": [
      "try again!\n",
      "hello2\n",
      "Hello\n"
     ]
    },
    {
     "name": "stdin",
     "output_type": "stream",
     "text": [
      "guess a number between 1 and 10 8\n"
     ]
    },
    {
     "name": "stdout",
     "output_type": "stream",
     "text": [
      "try again!\n",
      "hello2\n",
      "Hello\n"
     ]
    },
    {
     "name": "stdin",
     "output_type": "stream",
     "text": [
      "guess a number between 1 and 10 9\n"
     ]
    },
    {
     "name": "stdout",
     "output_type": "stream",
     "text": [
      "try again!\n",
      "hello2\n",
      "Hello\n"
     ]
    },
    {
     "name": "stdin",
     "output_type": "stream",
     "text": [
      "guess a number between 1 and 10 1\n"
     ]
    },
    {
     "name": "stdout",
     "output_type": "stream",
     "text": [
      "you guessed it right! the number was: 1\n"
     ]
    }
   ],
   "source": [
    "import random\n",
    "\n",
    "min_value = 1\n",
    "max_value = 10\n",
    "computer_number = random.randint(min_value, max_value)\n",
    "user_guess = ''\n",
    "\n",
    "while computer_number != user_guess:\n",
    "    print(\"Hello\")\n",
    "    user_guess = int(input ('guess a number between 1 and 10'))\n",
    "    \n",
    "    if user_guess != computer_number:\n",
    "        print('try again!')\n",
    "    else:\n",
    "        print('you guessed it right! the number was:', computer_number)\n",
    "        break\n",
    "    print(\"hello2\")\n",
    "        "
   ]
  },
  {
   "cell_type": "code",
   "execution_count": 17,
   "metadata": {},
   "outputs": [
    {
     "name": "stdout",
     "output_type": "stream",
     "text": [
      "it takes 300 hours\n"
     ]
    }
   ],
   "source": [
    "capacity = 1500\n",
    "initial = 600\n",
    "\n",
    "filling_rate = 9\n",
    "count = 1\n",
    "while capacity -initial + 6*count > 9*count:\n",
    "    count = count + 1\n",
    "else:\n",
    "    print ('it takes', count, 'hours')\n",
    "    \n"
   ]
  },
  {
   "cell_type": "code",
   "execution_count": 22,
   "metadata": {},
   "outputs": [
    {
     "name": "stdout",
     "output_type": "stream",
     "text": [
      "entered_salt_amount is: 0.19558067614426322\n",
      "initial_rate_salt is: 0.008333333333333333\n",
      "total_salt is: 2.695580676144263\n"
     ]
    }
   ],
   "source": [
    "import math\n",
    "entered_salt_amount = 1/5*(1+math.cos(count))\n",
    "initial_rate_salt = 5/600\n",
    "total_salt = entered_salt_amount + 5 - count*initial_rate_salt\n",
    "print ('entered_salt_amount is:', entered_salt_amount)\n",
    "print('initial_rate_salt is:', initial_rate_salt)\n",
    "print('total_salt is:', total_salt)"
   ]
  },
  {
   "cell_type": "code",
   "execution_count": 35,
   "metadata": {},
   "outputs": [
    {
     "data": {
      "text/plain": [
       "298.3710142163948"
      ]
     },
     "execution_count": 35,
     "metadata": {},
     "output_type": "execute_result"
    }
   ],
   "source": [
    "total_salt_amount = 1/5*(1+math.cos(count))* 1500 + 5\n",
    "total_salt_amount\n",
    "\n"
   ]
  },
  {
   "cell_type": "code",
   "execution_count": null,
   "metadata": {},
   "outputs": [],
   "source": [
    "1/5*(1+math.cos(count))\n",
    "\n"
   ]
  },
  {
   "cell_type": "code",
   "execution_count": null,
   "metadata": {},
   "outputs": [],
   "source": []
  }
 ],
 "metadata": {
  "kernelspec": {
   "display_name": "Python 3",
   "language": "python",
   "name": "python3"
  },
  "language_info": {
   "codemirror_mode": {
    "name": "ipython",
    "version": 3
   },
   "file_extension": ".py",
   "mimetype": "text/x-python",
   "name": "python",
   "nbconvert_exporter": "python",
   "pygments_lexer": "ipython3",
   "version": "3.7.4"
  }
 },
 "nbformat": 4,
 "nbformat_minor": 4
}
